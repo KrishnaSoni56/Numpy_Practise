{
 "cells": [
  {
   "cell_type": "markdown",
   "id": "e18471d8",
   "metadata": {},
   "source": [
    "# Q- 1 Write Statement to 'import' numpy"
   ]
  },
  {
   "cell_type": "code",
   "execution_count": 15,
   "id": "6d77bf63",
   "metadata": {},
   "outputs": [],
   "source": [
    "import numpy as np"
   ]
  },
  {
   "cell_type": "markdown",
   "id": "cfb1b790",
   "metadata": {},
   "source": [
    "# Q - 2 Create a array using Numpy"
   ]
  },
  {
   "cell_type": "code",
   "execution_count": 16,
   "id": "f722a327",
   "metadata": {},
   "outputs": [
    {
     "data": {
      "text/plain": [
       "array([1, 2, 3, 4, 5])"
      ]
     },
     "execution_count": 16,
     "metadata": {},
     "output_type": "execute_result"
    }
   ],
   "source": [
    "my_array = np.array([1,2,3,4,5])\n",
    "my_array"
   ]
  },
  {
   "cell_type": "markdown",
   "id": "5348634b",
   "metadata": {},
   "source": [
    "# Q-3 Create a array of ten numbers"
   ]
  },
  {
   "cell_type": "code",
   "execution_count": 17,
   "id": "ff430eeb",
   "metadata": {},
   "outputs": [
    {
     "data": {
      "text/plain": [
       "array([7, 8, 4, 1])"
      ]
     },
     "execution_count": 17,
     "metadata": {},
     "output_type": "execute_result"
    }
   ],
   "source": [
    "my_array = np.random.randint(1,10,4)\n",
    "my_array"
   ]
  },
  {
   "cell_type": "markdown",
   "id": "3e7bba24",
   "metadata": {},
   "source": [
    "# Q-4 Create an array of elements from 10-20"
   ]
  },
  {
   "cell_type": "code",
   "execution_count": 18,
   "id": "c7887db8",
   "metadata": {},
   "outputs": [
    {
     "data": {
      "text/plain": [
       "array([10, 11, 12, 13, 14, 15, 16, 17, 18, 19, 20])"
      ]
     },
     "execution_count": 18,
     "metadata": {},
     "output_type": "execute_result"
    }
   ],
   "source": [
    "import numpy as np\n",
    "my_array = np.arange(10,21)\n",
    "my_array"
   ]
  },
  {
   "cell_type": "markdown",
   "id": "8ae48a32",
   "metadata": {},
   "source": [
    "# Q- 5 Create an array which contains value 5 , 10 times ? "
   ]
  },
  {
   "cell_type": "code",
   "execution_count": 19,
   "id": "c0469944",
   "metadata": {},
   "outputs": [
    {
     "data": {
      "text/plain": [
       "array([5, 5, 5, 5, 5, 5, 5, 5, 5, 5])"
      ]
     },
     "execution_count": 19,
     "metadata": {},
     "output_type": "execute_result"
    }
   ],
   "source": [
    "my_array = np.random.randint(5,6,10)\n",
    "my_array"
   ]
  },
  {
   "cell_type": "markdown",
   "id": "2237a1a0",
   "metadata": {},
   "source": [
    "# Q-6 Create a one dimensional array and convert that into 3*3 matrix ? "
   ]
  },
  {
   "cell_type": "code",
   "execution_count": 20,
   "id": "bc667f56",
   "metadata": {},
   "outputs": [
    {
     "data": {
      "text/plain": [
       "array([1, 2, 3, 4, 5, 6, 7, 8, 9])"
      ]
     },
     "execution_count": 20,
     "metadata": {},
     "output_type": "execute_result"
    }
   ],
   "source": [
    "my_array = np.array([1,2,3,4,5,6,7,8,9])\n",
    "my_array"
   ]
  },
  {
   "cell_type": "code",
   "execution_count": 21,
   "id": "718e3905",
   "metadata": {},
   "outputs": [
    {
     "data": {
      "text/plain": [
       "array([[1, 2, 3],\n",
       "       [4, 5, 6],\n",
       "       [7, 8, 9]])"
      ]
     },
     "execution_count": 21,
     "metadata": {},
     "output_type": "execute_result"
    }
   ],
   "source": [
    "my_array = my_array.reshape(3,3)\n",
    "my_array"
   ]
  },
  {
   "cell_type": "markdown",
   "id": "fa6af5bf",
   "metadata": {},
   "source": [
    "# Q- 7 Create a 2D array of size 3*3 but all the elements should be between 0 to 1 ? "
   ]
  },
  {
   "cell_type": "code",
   "execution_count": 22,
   "id": "616a8a15",
   "metadata": {},
   "outputs": [
    {
     "data": {
      "text/plain": [
       "array([[0.11986978, 0.29506091, 0.69920544],\n",
       "       [0.29389783, 0.0535026 , 0.49485375],\n",
       "       [0.69126779, 0.70127697, 0.9107237 ]])"
      ]
     },
     "execution_count": 22,
     "metadata": {},
     "output_type": "execute_result"
    }
   ],
   "source": [
    "my_array = np.random.rand(9)\n",
    "my_array = my_array.reshape(3,3)\n",
    "my_array"
   ]
  },
  {
   "cell_type": "markdown",
   "id": "7a1b8974",
   "metadata": {},
   "source": [
    "# Q-8 Concatenate 2D array horizontally and vertically ?"
   ]
  },
  {
   "cell_type": "code",
   "execution_count": 30,
   "id": "e4af313a",
   "metadata": {},
   "outputs": [
    {
     "data": {
      "text/plain": [
       "array([[10, 20, 30],\n",
       "       [ 1,  2,  3],\n",
       "       [11, 21, 31],\n",
       "       [10, 20, 30]])"
      ]
     },
     "execution_count": 30,
     "metadata": {},
     "output_type": "execute_result"
    }
   ],
   "source": [
    "ar1 = np.array([[10,20,30],[1,2,3]])\n",
    "ar2 = np.array([[11,21,31],[10,20,30]])\n",
    "\n",
    "horizontal = np.concatenate((ar1,ar2),axis = 1)\n",
    "vertical = np.concatenate((ar1,ar2),axis = 0)\n",
    "\n",
    "vertical"
   ]
  },
  {
   "cell_type": "code",
   "execution_count": 31,
   "id": "37bf20e0",
   "metadata": {},
   "outputs": [
    {
     "data": {
      "text/plain": [
       "array([[10, 20, 30, 11, 21, 31],\n",
       "       [ 1,  2,  3, 10, 20, 30]])"
      ]
     },
     "execution_count": 31,
     "metadata": {},
     "output_type": "execute_result"
    }
   ],
   "source": [
    "horizontal"
   ]
  },
  {
   "cell_type": "code",
   "execution_count": null,
   "id": "36c1bafb",
   "metadata": {},
   "outputs": [],
   "source": []
  }
 ],
 "metadata": {
  "kernelspec": {
   "display_name": "Python 3 (ipykernel)",
   "language": "python",
   "name": "python3"
  },
  "language_info": {
   "codemirror_mode": {
    "name": "ipython",
    "version": 3
   },
   "file_extension": ".py",
   "mimetype": "text/x-python",
   "name": "python",
   "nbconvert_exporter": "python",
   "pygments_lexer": "ipython3",
   "version": "3.10.9"
  }
 },
 "nbformat": 4,
 "nbformat_minor": 5
}
